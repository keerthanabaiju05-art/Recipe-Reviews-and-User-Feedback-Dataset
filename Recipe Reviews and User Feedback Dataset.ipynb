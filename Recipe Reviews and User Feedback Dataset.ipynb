{
 "cells": [
  {
   "cell_type": "code",
   "execution_count": 1,
   "id": "50d0e923-d08a-48ea-a6cf-c59b7033f439",
   "metadata": {},
   "outputs": [
    {
     "name": "stderr",
     "output_type": "stream",
     "text": [
      "[nltk_data] Downloading package punkt to C:\\Users\\keert/nltk_data...\n",
      "[nltk_data]   Package punkt is already up-to-date!\n"
     ]
    },
    {
     "data": {
      "text/plain": [
       "True"
      ]
     },
     "execution_count": 1,
     "metadata": {},
     "output_type": "execute_result"
    }
   ],
   "source": [
    "import nltk\n",
    "nltk.download('punkt')"
   ]
  },
  {
   "cell_type": "code",
   "execution_count": 3,
   "id": "eab49315-55e3-4230-8c8a-cfd01e7f3b29",
   "metadata": {},
   "outputs": [
    {
     "name": "stdout",
     "output_type": "stream",
     "text": [
      "First 5 rows of the dataset:\n",
      "   Unnamed: 0  recipe_number  recipe_code         recipe_name  \\\n",
      "0           0              1        14299  Creamy White Chili   \n",
      "1           1              1        14299  Creamy White Chili   \n",
      "2           2              1        14299  Creamy White Chili   \n",
      "3           3              1        14299  Creamy White Chili   \n",
      "4           4              1        14299  Creamy White Chili   \n",
      "\n",
      "                                        comment_id         user_id  \\\n",
      "0  sp_aUSaElGf_14299_c_2G3aneMRgRMZwXqIHmSdXSG1hEM  u_9iFLIhMa8QaG   \n",
      "1  sp_aUSaElGf_14299_c_2FsPC83HtzCsQAtOxlbL6RcaPbY  u_Lu6p25tmE77j   \n",
      "2  sp_aUSaElGf_14299_c_2FPrSGyTv7PQkZq37j92r9mYGkP  u_s0LwgpZ8Jsqq   \n",
      "3  sp_aUSaElGf_14299_c_2DzdSIgV9qNiuBaLoZ7JQaartoC  u_fqrybAdYjgjG   \n",
      "4  sp_aUSaElGf_14299_c_2DtZJuRQYeTFwXBoZRfRhBPEXjI  u_XXWKwVhKZD69   \n",
      "\n",
      "    user_name  user_reputation  created_at  reply_count  thumbs_up  \\\n",
      "0     Jeri326                1  1665619889            0          0   \n",
      "1     Mark467               50  1665277687            0          7   \n",
      "2  Barbara566               10  1664404557            0          3   \n",
      "3  jeansch123                1  1661787808            2          2   \n",
      "4    camper77               10  1664913823            1          7   \n",
      "\n",
      "   thumbs_down  stars  best_score  \\\n",
      "0            0      5         527   \n",
      "1            0      5         724   \n",
      "2            0      5         710   \n",
      "3            0      0         581   \n",
      "4            0      0         820   \n",
      "\n",
      "                                                text  \n",
      "0  I tweaked it a little, removed onions because ...  \n",
      "1  Bush used to have a white chili bean and it ma...  \n",
      "2  I have a very complicated white chicken chili ...  \n",
      "3  In your introduction, you mentioned cream chee...  \n",
      "4  Wonderful! I made this for a &#34;Chili/Stew&#...  \n",
      "\n",
      "Dataset Information:\n",
      "<class 'pandas.core.frame.DataFrame'>\n",
      "RangeIndex: 18182 entries, 0 to 18181\n",
      "Data columns (total 15 columns):\n",
      " #   Column           Non-Null Count  Dtype \n",
      "---  ------           --------------  ----- \n",
      " 0   Unnamed: 0       18182 non-null  int64 \n",
      " 1   recipe_number    18182 non-null  int64 \n",
      " 2   recipe_code      18182 non-null  int64 \n",
      " 3   recipe_name      18182 non-null  object\n",
      " 4   comment_id       18182 non-null  object\n",
      " 5   user_id          18182 non-null  object\n",
      " 6   user_name        18182 non-null  object\n",
      " 7   user_reputation  18182 non-null  int64 \n",
      " 8   created_at       18182 non-null  int64 \n",
      " 9   reply_count      18182 non-null  int64 \n",
      " 10  thumbs_up        18182 non-null  int64 \n",
      " 11  thumbs_down      18182 non-null  int64 \n",
      " 12  stars            18182 non-null  int64 \n",
      " 13  best_score       18182 non-null  int64 \n",
      " 14  text             18180 non-null  object\n",
      "dtypes: int64(10), object(5)\n",
      "memory usage: 2.1+ MB\n",
      "\n",
      "Descriptive Statistics:\n",
      "         Unnamed: 0  recipe_number    recipe_code  user_reputation  \\\n",
      "count  18182.000000   18182.000000   18182.000000     18182.000000   \n",
      "mean     121.465295      38.689363   21773.667253         2.159608   \n",
      "std      116.747893      29.786647   23965.109637        10.014666   \n",
      "min        0.000000       1.000000     386.000000         0.000000   \n",
      "25%       45.000000      12.000000    6086.000000         1.000000   \n",
      "50%       91.000000      33.000000   14600.000000         1.000000   \n",
      "75%      150.000000      64.000000   33121.000000         1.000000   \n",
      "max      724.000000     100.000000  191775.000000       520.000000   \n",
      "\n",
      "         created_at   reply_count     thumbs_up   thumbs_down         stars  \\\n",
      "count  1.818200e+04  18182.000000  18182.000000  18182.000000  18182.000000   \n",
      "mean   1.623710e+09      0.014630      1.089264      0.549335      4.288802   \n",
      "std    5.468697e+06      0.137974      4.201004      3.470124      1.544786   \n",
      "min    1.613035e+09      0.000000      0.000000      0.000000      0.000000   \n",
      "25%    1.622717e+09      0.000000      0.000000      0.000000      5.000000   \n",
      "50%    1.622718e+09      0.000000      0.000000      0.000000      5.000000   \n",
      "75%    1.622718e+09      0.000000      0.000000      0.000000      5.000000   \n",
      "max    1.665756e+09      3.000000    106.000000    126.000000      5.000000   \n",
      "\n",
      "         best_score  \n",
      "count  18182.000000  \n",
      "mean     153.162138  \n",
      "std      141.075316  \n",
      "min        0.000000  \n",
      "25%      100.000000  \n",
      "50%      100.000000  \n",
      "75%      100.000000  \n",
      "max      946.000000  \n"
     ]
    }
   ],
   "source": [
    "# Exploring the Data\n",
    "import pandas as pd\n",
    "\n",
    "df = pd.read_csv('Recipe Reviews and User Feedback Dataset.csv')\n",
    "\n",
    "print(\"First 5 rows of the dataset:\")\n",
    "print(df.head())\n",
    "\n",
    "print(\"\\nDataset Information:\")\n",
    "df.info()\n",
    "\n",
    "# Get descriptive statistics for numerical columns\n",
    "print(\"\\nDescriptive Statistics:\")\n",
    "print(df.describe())"
   ]
  },
  {
   "cell_type": "code",
   "execution_count": 7,
   "id": "658684fb-511f-445a-9404-351d3e29e615",
   "metadata": {},
   "outputs": [
    {
     "name": "stdout",
     "output_type": "stream",
     "text": [
      "Starting the data cleaning process with the new tokenizer...\n",
      "Data cleaning is complete!\n",
      "\n",
      "Here are some examples of the cleaned text:\n",
      "                                                text  \\\n",
      "0  I tweaked it a little, removed onions because ...   \n",
      "1  Bush used to have a white chili bean and it ma...   \n",
      "2  I have a very complicated white chicken chili ...   \n",
      "3  In your introduction, you mentioned cream chee...   \n",
      "4  Wonderful! I made this for a &#34;Chili/Stew&#...   \n",
      "\n",
      "                                        cleaned_text  \n",
      "0  tweaked little removed onions onion haters hou...  \n",
      "1  bush used white chili bean made recipe super s...  \n",
      "2  complicated white chicken chili recipe made ye...  \n",
      "3  introduction mentioned cream cheese none liste...  \n",
      "4  wonderful made chili stew night dinner church ...  \n"
     ]
    }
   ],
   "source": [
    "# Data Cleaning and Preprocessing\n",
    "import nltk\n",
    "import os\n",
    "import re\n",
    "import pandas as pd\n",
    "from nltk.corpus import stopwords\n",
    "from nltk.tokenize import RegexpTokenizer \n",
    "\n",
    "nltk_data_dir = os.path.join(os.path.expanduser(\"~\"), \"nltk_data\")\n",
    "if not os.path.exists(nltk_data_dir):\n",
    "    os.makedirs(nltk_data_dir)\n",
    "if nltk_data_dir not in nltk.data.path:\n",
    "    nltk.data.path.append(nltk_data_dir)\n",
    "nltk.download('stopwords', download_dir=nltk_data_dir, quiet=True)\n",
    "\n",
    "def clean_text(text):\n",
    "    if not isinstance(text, str):\n",
    "        return \"\"\n",
    "    \n",
    "    # This tokenizer will split the text into words of 1 or more letters\n",
    "    # and will ignore punctuation and numbers automatically.\n",
    "    tokenizer = RegexpTokenizer(r'[a-zA-Z]+')\n",
    "\n",
    "    text = text.lower()  \n",
    "    words = tokenizer.tokenize(text) \n",
    "    \n",
    "    \n",
    "    stop_words = set(stopwords.words('english'))\n",
    "    words = [w for w in words if w not in stop_words]\n",
    "    \n",
    "    return \" \".join(words)\n",
    "\n",
    "print(\"Starting the data cleaning process with the new tokenizer...\")\n",
    "\n",
    "df.dropna(subset=['text'], inplace=True)\n",
    "\n",
    "df['cleaned_text'] = df['text'].apply(clean_text)\n",
    "\n",
    "print(\"Data cleaning is complete!\")\n",
    "print(\"\\nHere are some examples of the cleaned text:\")\n",
    "print(df[['text', 'cleaned_text']].head())"
   ]
  },
  {
   "cell_type": "code",
   "execution_count": 9,
   "id": "cd3310c0-39f4-497c-ac68-db3b8c7e8c7a",
   "metadata": {},
   "outputs": [
    {
     "name": "stdout",
     "output_type": "stream",
     "text": [
      "Vectorizing the text data...\n",
      "Text vectorization complete.\n",
      "\n",
      "Feature set created with shape: (18180, 5003)\n",
      "Target variable created with shape: (18180,)\n"
     ]
    }
   ],
   "source": [
    "# Feature Engineering and Selection\n",
    "from sklearn.feature_extraction.text import TfidfVectorizer\n",
    "import numpy as np\n",
    "\n",
    "vectorizer = TfidfVectorizer(max_features=5000)\n",
    "\n",
    "print(\"Vectorizing the text data...\")\n",
    "\n",
    "X_text = vectorizer.fit_transform(df['cleaned_text']).toarray()\n",
    "print(\"Text vectorization complete.\")\n",
    "\n",
    "X_numerical = df[['user_reputation', 'reply_count', 'thumbs_up']].values\n",
    "\n",
    "X = np.hstack([X_text, X_numerical])\n",
    "\n",
    "y = df['stars']\n",
    "\n",
    "print(f\"\\nFeature set created with shape: {X.shape}\")\n",
    "print(f\"Target variable created with shape: {y.shape}\")"
   ]
  },
  {
   "cell_type": "code",
   "execution_count": 11,
   "id": "9d56cf81-d48e-4972-8770-a80a10edf6b7",
   "metadata": {},
   "outputs": [
    {
     "name": "stdout",
     "output_type": "stream",
     "text": [
      "Training data shape: (14544, 5003)\n",
      "Testing data shape: (3636, 5003)\n",
      "\n",
      "Training the model... (This may take a few minutes)\n",
      "Model training complete!\n",
      "\n",
      "Model Accuracy: 77.31%\n",
      "\n",
      "Classification Report:\n",
      "              precision    recall  f1-score   support\n",
      "\n",
      "           0       0.75      0.13      0.22       334\n",
      "           1       0.50      0.10      0.16        51\n",
      "           2       0.00      0.00      0.00        35\n",
      "           3       0.60      0.05      0.10       110\n",
      "           4       0.87      0.04      0.07       356\n",
      "           5       0.77      1.00      0.87      2750\n",
      "\n",
      "    accuracy                           0.77      3636\n",
      "   macro avg       0.58      0.22      0.24      3636\n",
      "weighted avg       0.76      0.77      0.69      3636\n",
      "\n"
     ]
    }
   ],
   "source": [
    "from sklearn.model_selection import train_test_split\n",
    "from sklearn.ensemble import RandomForestClassifier\n",
    "from sklearn.metrics import accuracy_score, classification_report\n",
    "\n",
    "# Split the data into a training set (80%) and a testing set (20%)\n",
    "X_train, X_test, y_train, y_test = train_test_split(X, y, test_size=0.2, random_state=42)\n",
    "\n",
    "print(f\"Training data shape: {X_train.shape}\")\n",
    "print(f\"Testing data shape: {X_test.shape}\")\n",
    "\n",
    "model = RandomForestClassifier(n_estimators=100, random_state=42, n_jobs=-1)\n",
    "\n",
    "# Train the model on the training data\n",
    "print(\"\\nTraining the model... (This may take a few minutes)\")\n",
    "model.fit(X_train, y_train)\n",
    "print(\"Model training complete!\")\n",
    "\n",
    "# Make predictions on the test set\n",
    "y_pred = model.predict(X_test)\n",
    "\n",
    "# Evaluate the model's performance\n",
    "accuracy = accuracy_score(y_test, y_pred)\n",
    "print(f\"\\nModel Accuracy: {accuracy * 100:.2f}%\")\n",
    "\n",
    "print(\"\\nClassification Report:\")\n",
    "print(classification_report(y_test, y_pred))"
   ]
  },
  {
   "cell_type": "code",
   "execution_count": 13,
   "id": "45f67d21-e475-400f-bf0d-2156e4a0c714",
   "metadata": {},
   "outputs": [
    {
     "name": "stdout",
     "output_type": "stream",
     "text": [
      "Training Logistic Regression...\n",
      "  -> Accuracy: 76.87%\n",
      "\n",
      "Training Linear SVC...\n",
      "  -> Accuracy: 76.27%\n",
      "\n",
      "Training Multinomial NB...\n",
      "  -> Accuracy: 74.39%\n",
      "\n",
      "Training Random Forest...\n",
      "  -> Accuracy: 77.31%\n",
      "\n",
      "The best performing model is 'Random Forest' with an accuracy of 77.31%.\n",
      "\n",
      "A bar chart comparing the models has been saved as 'model_comparison.png'.\n"
     ]
    },
    {
     "data": {
      "image/png": "[encoded data removed]",
      "text/plain": [
       "<Figure size 1000x600 with 1 Axes>"
      ]
     },
     "metadata": {},
     "output_type": "display_data"
    }
   ],
   "source": [
    "# Building and Training The Model\n",
    "import matplotlib.pyplot as plt\n",
    "from sklearn.linear_model import LogisticRegression\n",
    "from sklearn.svm import LinearSVC\n",
    "from sklearn.naive_bayes import MultinomialNB\n",
    "from sklearn.ensemble import RandomForestClassifier\n",
    "from sklearn.model_selection import train_test_split\n",
    "from sklearn.metrics import accuracy_score\n",
    "\n",
    "X_train, X_test, y_train, y_test = train_test_split(X, y, test_size=0.2, random_state=42)\n",
    "\n",
    "models = {\n",
    "    \"Logistic Regression\": LogisticRegression(max_iter=1000),\n",
    "    \"Linear SVC\": LinearSVC(dual=False), # dual=False is recommended when n_samples > n_features\n",
    "    \"Multinomial NB\": MultinomialNB(),\n",
    "    \"Random Forest\": RandomForestClassifier(n_estimators=100, random_state=42, n_jobs=-1)\n",
    "}\n",
    "\n",
    "model_performance = {}\n",
    "\n",
    "for name, model in models.items():\n",
    "    print(f\"Training {name}...\")\n",
    "    model.fit(X_train, y_train)\n",
    "    y_pred = model.predict(X_test)\n",
    "    accuracy = accuracy_score(y_test, y_pred)\n",
    "    model_performance[name] = accuracy\n",
    "    print(f\"  -> Accuracy: {accuracy * 100:.2f}%\\n\")\n",
    "\n",
    "best_model_name = max(model_performance, key=model_performance.get)\n",
    "best_model_score = model_performance[best_model_name]\n",
    "\n",
    "print(f\"The best performing model is '{best_model_name}' with an accuracy of {best_model_score * 100:.2f}%.\")\n",
    "\n",
    "\n",
    "plt.figure(figsize=(10, 6))\n",
    "plt.bar(model_performance.keys(), model_performance.values(), color=['blue', 'green', 'orange', 'red'])\n",
    "plt.xlabel(\"Model\")\n",
    "plt.ylabel(\"Accuracy Score\")\n",
    "plt.title(\"Model Performance Comparison\")\n",
    "plt.ylim(0, 1.0) \n",
    "\n",
    "\n",
    "for i, (name, score) in enumerate(model_performance.items()):\n",
    "    plt.text(i, score + 0.01, f'{score:.2f}', ha = 'center')\n",
    "\n",
    "\n",
    "plt.savefig('model_comparison.png')\n",
    "\n",
    "print(\"\\nA bar chart comparing the models has been saved as 'model_comparison.png'.\")\n"
   ]
  },
  {
   "cell_type": "code",
   "execution_count": 15,
   "id": "5540c8ba-5c6b-48b8-9aa2-da63a635921c",
   "metadata": {},
   "outputs": [
    {
     "name": "stdout",
     "output_type": "stream",
     "text": [
      "\n",
      "  Conclusion:\n",
      "The 'Random Forest' model performed best with an Accuracy Score of 0.7731.\n",
      "This indicates it was the most effective model for predicting star ratings based on the provided data.\n",
      "\n",
      "Key findings from the feature set used:\n",
      "- A combination of the review text (what the user wrote) and user metadata (like reputation, replies, and thumbs-up counts) were influential predictors of the final star rating.\n"
     ]
    }
   ],
   "source": [
    "#Conclusion\n",
    "\n",
    "if 'best_model_name' in locals() and 'best_model_score' in locals():\n",
    "    print(\"\\n  Conclusion:\")\n",
    "    print(f\"The '{best_model_name}' model performed best with an Accuracy Score of {best_model_score:.4f}.\")\n",
    "    print(\"This indicates it was the most effective model for predicting star ratings based on the provided data.\")\n",
    "    \n",
    "    print(\"\\nKey findings from the feature set used:\")\n",
    "    print(\"- A combination of the review text (what the user wrote) and user metadata (like reputation, replies, and thumbs-up counts) were influential predictors of the final star rating.\")\n",
    "    \n",
    "else:\n",
    "    print(\"\\n#  Conclusion: No conclusion available because the model comparison results were not found.\")"
   ]
  },
  {
   "cell_type": "code",
   "execution_count": null,
   "id": "7b9f8522-0d79-430a-850e-42b4cc384357",
   "metadata": {},
   "outputs": [],
   "source": []
  }
 ],
 "metadata": {
  "kernelspec": {
   "display_name": "Python [conda env:base] *",
   "language": "python",
   "name": "conda-base-py"
  },
  "language_info": {
   "codemirror_mode": {
    "name": "ipython",
    "version": 3
   },
   "file_extension": ".py",
   "mimetype": "text/x-python",
   "name": "python",
   "nbconvert_exporter": "python",
   "pygments_lexer": "ipython3",
   "version": "3.12.7"
  }
 },
 "nbformat": 4,
 "nbformat_minor": 5
}
